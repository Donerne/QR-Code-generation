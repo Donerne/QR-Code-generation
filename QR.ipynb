{
 "cells": [
  {
   "cell_type": "code",
   "execution_count": null,
   "metadata": {},
   "outputs": [],
   "source": [
    "# pip install qrcode[pil]"
   ]
  },
  {
   "cell_type": "markdown",
   "metadata": {},
   "source": [
    "# Importing Necessary Packages"
   ]
  },
  {
   "cell_type": "code",
   "execution_count": 2,
   "metadata": {},
   "outputs": [],
   "source": [
    "import qrcode"
   ]
  },
  {
   "cell_type": "code",
   "execution_count": 3,
   "metadata": {},
   "outputs": [],
   "source": [
    "# Personal Github URL to use on QR code\n",
    "\n",
    "github_url = \"https://www.linkedin.com/in/ernest-frimpong-0b8a95164/\"\n",
    "\n",
    "# Creating QR code \n",
    "qr = qrcode.QRCode(\n",
    "    version=1, # Adjust size (1 is 21x21; larger number are bigger codes)\n",
    "    error_correction=qrcode.constants.ERROR_CORRECT_H, # high error correction\n",
    "    box_size=10,\n",
    "    border=4,\n",
    ")\n",
    "qr.add_data(github_url)\n",
    "qr.make(fit=True)"
   ]
  },
  {
   "cell_type": "code",
   "execution_count": 4,
   "metadata": {},
   "outputs": [
    {
     "name": "stdout",
     "output_type": "stream",
     "text": [
      "QR has been saved.\n"
     ]
    }
   ],
   "source": [
    "# Saving QR code as an image\n",
    "img = qr.make_image(fill_color=\"blue\", back_color=\"white\")\n",
    "img.save(\"gitgub_qr_code.png\")\n",
    "\n",
    "print(\"QR has been saved.\")"
   ]
  }
 ],
 "metadata": {
  "kernelspec": {
   "display_name": "base",
   "language": "python",
   "name": "python3"
  },
  "language_info": {
   "codemirror_mode": {
    "name": "ipython",
    "version": 3
   },
   "file_extension": ".py",
   "mimetype": "text/x-python",
   "name": "python",
   "nbconvert_exporter": "python",
   "pygments_lexer": "ipython3",
   "version": "3.12.7"
  }
 },
 "nbformat": 4,
 "nbformat_minor": 2
}
